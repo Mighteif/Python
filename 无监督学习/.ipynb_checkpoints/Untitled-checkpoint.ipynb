{
 "cells": [
  {
   "cell_type": "code",
   "execution_count": 45,
   "metadata": {},
   "outputs": [],
   "source": [
    "# -*- coding:uft-8 -*-\n",
    "from PIL import Image\n",
    "import numpy as np\n",
    "%matplotlib inline\n",
    "import matplotlib .pyplot as plt\n",
    "import os"
   ]
  },
  {
   "cell_type": "code",
   "execution_count": 46,
   "metadata": {},
   "outputs": [],
   "source": [
    "def transform(img):\n",
    "    #将突破转换为列向量的形式 \n",
    "    result = np.int_(img.reshape((-1,1)))\n",
    "    length = len(result)\n",
    "    #输入的二值图片像素值为0或非0\n",
    "    #便于分类训练色像素点对应的分量值为-1其他为1\n",
    "    for i in range(length):\n",
    "        if result[i] == 0:\n",
    "            result[i] = -1\n",
    "        else:\n",
    "            result[i] = 1;\n",
    "    return result"
   ]
  },
  {
   "cell_type": "code",
   "execution_count": 47,
   "metadata": {},
   "outputs": [],
   "source": [
    "def training(W,img,al):\n",
    "    p = transform(img)\n",
    "    pLen = len(p)\n",
    "    #初始化权值矩阵为全0矩阵\n",
    "    if W is None:\n",
    "        W = np.zeros((pLen,pLen))\n",
    "    t = p\n",
    "    result = W + al * np.dot(p,t.T);\n",
    "    return result"
   ]
  },
  {
   "cell_type": "code",
   "execution_count": 48,
   "metadata": {},
   "outputs": [],
   "source": [
    "def hardlim(a):\n",
    "    a[ a >= 0 ] = 1\n",
    "    a[ a < 0 ] = 0\n",
    "    return a"
   ]
  },
  {
   "cell_type": "code",
   "execution_count": 49,
   "metadata": {},
   "outputs": [],
   "source": [
    "def testing(W,img):\n",
    "    #调用激发函数hardlim控制输出结果为0或1\n",
    "    result = hardlim(np.dot(transform(img).T,W))\n",
    "    return result"
   ]
  },
  {
   "cell_type": "code",
   "execution_count": 50,
   "metadata": {},
   "outputs": [],
   "source": [
    "def main():\n",
    "    #学习步长设置为0.5，可设置不同值查看训练效果\n",
    "    alpha = 0.5\n",
    "    #分别存放训练集和测试机的文件目录想对路径\n",
    "    trainDir = \"exam/train/\"\n",
    "    testDir = \"exam/test/\"\n",
    "    trainImg = os.listdir(trainDir)\n",
    "    trainImg.sort()\n",
    "    \n",
    "    trnLen = len(trainImg)\n",
    "    W = None;\n",
    "    \n",
    "    \n",
    "#traing\n",
    "    for i in range(trnLen):\n",
    "        img = np.array(Image.open(trainDir+trainImg[i]).convert(\"1\"))\n",
    "        #调用训练函数进行自联想存储器的训练\n",
    "        W = training(W,img,alpha)\n",
    "        \n",
    "    #展示训练集中的数字图片\n",
    "    count = 1\n",
    "    for i in range(trnLen):\n",
    "        img = Image.open(trainDir+trainImg[i]).convert(\"1\")\n",
    "        plt.subplot(1,trnLen,i+1)\n",
    "        plt.title(str(i))\n",
    "        plt.imshow(img,cmap=plt.cm.gray)\n",
    "        \n",
    "    #testing\n",
    "    dirsAll = os.listdir(testDir)\n",
    "    dirsAll.sort()\n",
    "    dirLen = len(dirsAll)\n",
    "    count = 1\n",
    "    #设置输出测试结果面板大小\n",
    "    plt.figure(figsize=(10,10))\n",
    "    #每个数字都放在一个文件夹中，对每个子目录进行遍历\n",
    "    for i in range(dirLen):\n",
    "        files = os.listdir(testDir+dirsAll[i])\n",
    "        files.sort()\n",
    "        filesLen = len(files)\n",
    "        \n",
    "        #进入每个数字图片对应的文件目录中\n",
    "        #取出对应于每个数字图片的遮挡或加噪音图片进行自联想存储器的测试\n",
    "        \n",
    "        for j in range(filesLen):\n",
    "            fullPath = testDir + dirsAll[i] + '/' + files[j]\n",
    "            img = np.array(Image.open(fullPath).convert(\"1\"))\n",
    "            \n",
    "            #利用训练得到的权值矩阵进行测试\n",
    "            imageResult = testing(W,img)\n",
    "            \n",
    "            DisSource = hardlim(transform(img).reshape(img.shape))\n",
    "            \n",
    "            #将对测试集的联想结果从列向量的形式转换为与输出图片一样的矩阵\n",
    "            DisResult = imageResult.reshape(img.shape)\n",
    "            \n",
    "            plt.subplot(dirLen , 2 * filesLen , count)\n",
    "            plt.title('source')\n",
    "            count = count + 1\n",
    "            plt.imshow(DisSource , cmap=plt.cm.gray)\n",
    "            \n",
    "            plt.subplot(dirLen , 2 * filesLen , count)\n",
    "            plt.title('result')\n",
    "            count = count + 1\n",
    "            plt.imshow(DisResult , cmap = plt.cm.gray)\n",
    "    fig = plt.get_current_fig_manager()\n",
    "    plt.show()"
   ]
  },
  {
   "cell_type": "code",
   "execution_count": 51,
   "metadata": {},
   "outputs": [
    {
     "data": {
      "image/png": "[encoded data removed]",
      "text/plain": [
       "<Figure size 432x288 with 4 Axes>"
      ]
     },
     "metadata": {
      "needs_background": "light"
     },
     "output_type": "display_data"
    },
    {
     "data": {
      "image/png": "[encoded data removed]",
      "text/plain": [
       "<Figure size 720x720 with 24 Axes>"
      ]
     },
     "metadata": {
      "needs_background": "light"
     },
     "output_type": "display_data"
    }
   ],
   "source": [
    "main()\n"
   ]
  },
  {
   "cell_type": "code",
   "execution_count": null,
   "metadata": {},
   "outputs": [],
   "source": []
  }
 ],
 "metadata": {
  "kernelspec": {
   "display_name": "Python 3",
   "language": "python",
   "name": "python3"
  },
  "language_info": {
   "codemirror_mode": {
    "name": "ipython",
    "version": 3
   },
   "file_extension": ".py",
   "mimetype": "text/x-python",
   "name": "python",
   "nbconvert_exporter": "python",
   "pygments_lexer": "ipython3",
   "version": "3.7.1"
  }
 },
 "nbformat": 4,
 "nbformat_minor": 2
}
